{
 "cells": [
  {
   "cell_type": "markdown",
   "metadata": {},
   "source": [
    "Name: Saral Gautam\n",
    "Student ID: 30618428\n",
    "email: sgau0007@student.monash.edu"
   ]
  },
  {
   "cell_type": "markdown",
   "metadata": {},
   "source": [
    "# FIT3182 Assignment 1: Part A\n",
    "\n",
    "Task 1\n",
    "The data model will follow the document data model. This is because the data contains multiple different types for example datetime (in hotspot_historic), date, integers and strings (used in preciptation measurements). Additionally the data is relatively unstructured- in climate historic each set of measurements is taken daily without any kind of grouping between the measurements and in the hotspot data there is no sorting with any of the dates or datetimes. Furthermore since the dates are common between both the hotspot_historic and climate_historic we can group the documents together and have overall denormalised data. This is optimal since we only plan to run search queries through the data which will be much faster when the documents are grouped together in this way. The document data model also allows for some attributes to be empty and this may be the case since one climate data may have zero or many fire data, hence leading to some possibly empty attributes.\n",
    "Example of data:"
   ]
  },
  {
   "cell_type": "code",
   "execution_count": 6,
   "metadata": {},
   "outputs": [],
   "source": [
    "from pprint import pprint\n",
    "import pymongo\n",
    "from pymongo import MongoClient\n",
    "import csv"
   ]
  },
  {
   "cell_type": "code",
   "execution_count": 7,
   "metadata": {},
   "outputs": [],
   "source": [
    "# Task 2\n",
    "# Question 1\n",
    "# So we have to load all the data from the csv files into a new database fit3182_assignment_db\n",
    "# Firstly create the data base\n",
    "client = MongoClient() # so we connect on the default host and port\n",
    "db = client.fit3182_assignment_db # create a new database fit3182_assignment_db\n",
    "the_collection = db.climate  # create a new collection called 'climate'\n",
    "with open('climate_historic.csv', 'r') as file_one:  # open both files\n",
    "    # now create a csv object for each of the files\n",
    "    climate_data = csv.reader(file_one)\n",
    "    climate_lines = []\n",
    "    count = 0\n",
    "    for c_line in climate_data:\n",
    "        if count == 0:\n",
    "            count += 1\n",
    "        else:\n",
    "            climate_lines.append(c_line)    \n",
    "            \n",
    "\n",
    "            \n",
    "with open('hotspot_historic.csv', 'r') as file_two: \n",
    "    hotspot_data = csv.reader(file_two)\n",
    "    hotspot_lines = []\n",
    "    count = 0\n",
    "    for h_line in hotspot_data:  # go through the hotspot data.\n",
    "        if count == 0:\n",
    "            count += 1\n",
    "        else:\n",
    "            hotspot_lines.append(h_line)\n",
    "\n",
    "\n",
    "for hotspot_line in hotspot_lines:\n",
    "    for climate_line in climate_lines:\n",
    "        if hotspot_line[4] == climate_line[1]:\n",
    "            new_entry = {\n",
    "              \"latitude\" : hotspot_line[0],\n",
    "             \"longitude\": hotspot_line[1],\n",
    "             \"datetime\" : hotspot_line[2],\n",
    "             \"confidence\" : hotspot_line[3],\n",
    "             \"date\": hotspot_line[4],\n",
    "             \"surface_temperature_celsius\" : hotspot_line[5],\n",
    "              \"station\" : climate_line[0],\n",
    "             \"air_temperature_celsius\" : climate_line[2],\n",
    "             \"relative_humidity\": climate_line[3],\n",
    "             \"windspeed_knots\" : climate_line[4],\n",
    "             \"max_wind_speed\": climate_line[5],\n",
    "             \"precipitation\": climate_line[6],\n",
    "             \"GHI_w/m2\": climate_line[7]}\n",
    "            result = the_collection.insert_one(new_entry)  \n",
    "\n",
    "    \n",
    "# new_entry = {\"latitude\" : hotspot_line[0],\n",
    "#          \"longitude\": hotspot_line[1],\n",
    "#          \"datetime\" : hotspot_line[2],\n",
    "#          \"confidence\" : hotspot_line[3],\n",
    "#          \"date\": hotspot_line[4],\n",
    "#          \"surface_temperature_celsius\" : hotspot_line[5],\n",
    "#           \"station\" : climate_line[0],\n",
    "#          \"air_temperature_celsius\" : climate_line[2],\n",
    "#          \"relative_humidity\": climate_line[3],\n",
    "#          \"windspeed_knots\" : climate_line[4],\n",
    "#          \"max_wind_speed\": climate_line[5],\n",
    "#          \"precipitation\": climate_line[6],\n",
    "#          \"GHI_w/m2\": climate_line[7]\n",
    "#         }\n",
    "# result = the_collection.insert_one(new_entry)   \n",
    "# a = the_collection.find({})\n",
    "# for item in a:\n",
    "#     pprint(item)"
   ]
  }
 ],
 "metadata": {
  "kernelspec": {
   "display_name": "Python 3",
   "language": "python",
   "name": "python3"
  },
  "language_info": {
   "codemirror_mode": {
    "name": "ipython",
    "version": 3
   },
   "file_extension": ".py",
   "mimetype": "text/x-python",
   "name": "python",
   "nbconvert_exporter": "python",
   "pygments_lexer": "ipython3",
   "version": "3.5.2"
  }
 },
 "nbformat": 4,
 "nbformat_minor": 2
}
