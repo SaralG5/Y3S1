{
 "cells": [
  {
   "cell_type": "markdown",
   "metadata": {},
   "source": [
    "Name: Saral Gautam\n",
    "Student ID: 30618428\n",
    "email: sgau0007@student.monash.edu"
   ]
  },
  {
   "cell_type": "markdown",
   "metadata": {},
   "source": [
    "# FIT3182 Assignment 1: Part A\n",
    "\n",
    "Task 1\n",
    "The data model will follow the document data model. This is because the data contains multiple different types for example datetime (in hotspot_historic), date, integers and strings (used in preciptation measurements). Additionally the data is relatively unstructured- in climate historic each set of measurements is taken daily without any kind of grouping between the measurements and in the hotspot data there is no sorting with any of the dates or datetimes. Furthermore since the dates are common between both the hotspot_historic and climate_historic we can group the documents together and have overall denormalised data. This is optimal since we only plan to run search queries through the data which will be much faster when the documents are grouped together in this way. The document data model also allows for some attributes to be empty and this may be the case since one climate data may have zero or many fire data, hence leading to some possibly empty attributes.\n",
    "Example of data:"
   ]
  },
  {
   "cell_type": "code",
   "execution_count": 3,
   "metadata": {},
   "outputs": [],
   "source": [
    "import pymongo\n",
    "from pymongo import MongoClient\n",
    "import csv"
   ]
  },
  {
   "cell_type": "code",
   "execution_count": 9,
   "metadata": {},
   "outputs": [
    {
     "name": "stdout",
     "output_type": "stream",
     "text": [
      "<class 'str'>\n"
     ]
    }
   ],
   "source": [
    "# Task 2\n",
    "# Question 1\n",
    "# So we have to load all the data from the csv files into a new database fit3182_assignment_db\n",
    "# Firstly create the data base\n",
    "client = MongoClient() # so we connect on the default host and port\n",
    "db = client.fit3182_assignment_db # create a new database fit3182_assignment_db\n",
    "the_collection = db.climate  # create a new collection called 'climate'\n",
    "with open('climate_historic.csv', 'r') as file_one, open('hotspot_historic.csv', 'r') as file_two:  # open both files\n",
    "    # now create a csv object for each of the files\n",
    "    climate_data = csv.reader(file_one)\n",
    "    hotspot_data = csv.reader(file_two)\n",
    "    for \n",
    "        \n",
    "    \n",
    "    "
   ]
  },
  {
   "cell_type": "code",
   "execution_count": null,
   "metadata": {},
   "outputs": [],
   "source": []
  }
 ],
 "metadata": {
  "kernelspec": {
   "display_name": "Python 3",
   "language": "python",
   "name": "python3"
  },
  "language_info": {
   "codemirror_mode": {
    "name": "ipython",
    "version": 3
   },
   "file_extension": ".py",
   "mimetype": "text/x-python",
   "name": "python",
   "nbconvert_exporter": "python",
   "pygments_lexer": "ipython3",
   "version": "3.5.2"
  }
 },
 "nbformat": 4,
 "nbformat_minor": 2
}
